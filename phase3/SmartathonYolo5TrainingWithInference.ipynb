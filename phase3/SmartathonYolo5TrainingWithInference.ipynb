{
  "nbformat": 4,
  "nbformat_minor": 0,
  "metadata": {
    "colab": {
      "provenance": [],
      "machine_shape": "hm"
    },
    "kernelspec": {
      "name": "python3",
      "display_name": "Python 3"
    },
    "language_info": {
      "name": "python"
    },
    "accelerator": "GPU",
    "gpuClass": "standard"
  },
  "cells": [
    {
      "cell_type": "code",
      "execution_count": 1,
      "metadata": {
        "colab": {
          "base_uri": "https://localhost:8080/",
          "height": 107
        },
        "id": "YRrD4Sk8FGLY",
        "outputId": "6cdf24f8-eda9-41b2-90cd-d17de80d1c15"
      },
      "outputs": [
        {
          "output_type": "stream",
          "name": "stderr",
          "text": [
            "Downloading...\n",
            "From: https://app.roboflow.com/ds/Nu4o8sn8Ds?key=v4EID8IxBn\n",
            "To: /content/smart.zip\n",
            "100%|██████████| 1.87G/1.87G [01:17<00:00, 24.0MB/s]\n"
          ]
        },
        {
          "output_type": "execute_result",
          "data": {
            "text/plain": [
              "'smart.zip'"
            ],
            "application/vnd.google.colaboratory.intrinsic+json": {
              "type": "string"
            }
          },
          "metadata": {},
          "execution_count": 1
        }
      ],
      "source": [
        "import gdown\n",
        "url = 'https://app.roboflow.com/ds/Nu4o8sn8Ds?key=v4EID8IxBn' #**\n",
        "output='smart.zip'\n",
        "gdown.download(url, output, quiet=False)"
      ]
    },
    {
      "cell_type": "code",
      "source": [
        "!mkdir /content/smart"
      ],
      "metadata": {
        "id": "0HYakIVqFyDy",
        "colab": {
          "base_uri": "https://localhost:8080/"
        },
        "outputId": "aeeac4d0-3e06-47cf-af25-4ba702e1cfc3"
      },
      "execution_count": 2,
      "outputs": [
        {
          "output_type": "stream",
          "name": "stdout",
          "text": [
            "mkdir: cannot create directory ‘/content/smart’: File exists\n"
          ]
        }
      ]
    },
    {
      "cell_type": "code",
      "source": [
        "import os\n",
        "os.chdir('/content/')  #change dir\n",
        "!unzip -u smart.zip -d smart/Visual-Pollution-1"
      ],
      "metadata": {
        "id": "m6NdYH9lFyyr",
        "colab": {
          "base_uri": "https://localhost:8080/"
        },
        "outputId": "8ee3537b-8f1e-4650-c51c-a2f446f9052b"
      },
      "execution_count": 3,
      "outputs": [
        {
          "output_type": "stream",
          "name": "stdout",
          "text": [
            "Archive:  smart.zip\n"
          ]
        }
      ]
    },
    {
      "cell_type": "code",
      "source": [
        "!nvidia-smi"
      ],
      "metadata": {
        "colab": {
          "base_uri": "https://localhost:8080/"
        },
        "id": "YefP4NYPF373",
        "outputId": "fdfa50f9-a2ee-451a-a15a-963c62e8ff4e"
      },
      "execution_count": 4,
      "outputs": [
        {
          "output_type": "stream",
          "name": "stdout",
          "text": [
            "Sat Jan 21 09:21:30 2023       \n",
            "+-----------------------------------------------------------------------------+\n",
            "| NVIDIA-SMI 460.32.03    Driver Version: 460.32.03    CUDA Version: 11.2     |\n",
            "|-------------------------------+----------------------+----------------------+\n",
            "| GPU  Name        Persistence-M| Bus-Id        Disp.A | Volatile Uncorr. ECC |\n",
            "| Fan  Temp  Perf  Pwr:Usage/Cap|         Memory-Usage | GPU-Util  Compute M. |\n",
            "|                               |                      |               MIG M. |\n",
            "|===============================+======================+======================|\n",
            "|   0  Tesla T4            Off  | 00000000:00:04.0 Off |                    0 |\n",
            "| N/A   63C    P0    27W /  70W |      0MiB / 15109MiB |      0%      Default |\n",
            "|                               |                      |                  N/A |\n",
            "+-------------------------------+----------------------+----------------------+\n",
            "                                                                               \n",
            "+-----------------------------------------------------------------------------+\n",
            "| Processes:                                                                  |\n",
            "|  GPU   GI   CI        PID   Type   Process name                  GPU Memory |\n",
            "|        ID   ID                                                   Usage      |\n",
            "|=============================================================================|\n",
            "|  No running processes found                                                 |\n",
            "+-----------------------------------------------------------------------------+\n"
          ]
        }
      ]
    },
    {
      "cell_type": "code",
      "source": [
        "import os\n",
        "HOME = os.getcwd()\n",
        "print(HOME)"
      ],
      "metadata": {
        "colab": {
          "base_uri": "https://localhost:8080/"
        },
        "id": "NDnWm0uGF8k9",
        "outputId": "4be24bf2-069a-4a68-de9d-d662bf5591ef"
      },
      "execution_count": 5,
      "outputs": [
        {
          "output_type": "stream",
          "name": "stdout",
          "text": [
            "/content\n"
          ]
        }
      ]
    },
    {
      "cell_type": "code",
      "source": [
        "!git clone https://github.com/ultralytics/yolov5  # clone\n",
        "%cd yolov5\n",
        "%pip install -qr requirements.txt  # install\n",
        "\n",
        "import torch\n",
        "import utils\n",
        "display = utils.notebook_init()  # checks"
      ],
      "metadata": {
        "colab": {
          "base_uri": "https://localhost:8080/"
        },
        "id": "j5PvqGduFsnP",
        "outputId": "b822af72-706e-41d0-8a61-bf828b5f3678"
      },
      "execution_count": 6,
      "outputs": [
        {
          "output_type": "stream",
          "name": "stderr",
          "text": [
            "YOLOv5 🚀 v7.0-72-g064365d Python-3.8.10 torch-1.13.1+cu116 CUDA:0 (Tesla T4, 15110MiB)\n"
          ]
        },
        {
          "output_type": "stream",
          "name": "stdout",
          "text": [
            "Setup complete ✅ (8 CPUs, 51.0 GB RAM, 31.8/166.8 GB disk)\n"
          ]
        }
      ]
    },
    {
      "cell_type": "code",
      "source": [
        "# you can train new model :\n",
        "# Please note that data.yaml need to be edited to fix train/validation paths before. running the train.py\n",
        "#!python /content/yolov5/train.py --img 960 --batch 24 --epochs 75 --data /content/smart/Visual-Pollution-1/data.yaml --weights yolov5x.pt --cache"
      ],
      "metadata": {
        "id": "s3xiZvMGGL6F"
      },
      "execution_count": 7,
      "outputs": []
    },
    {
      "cell_type": "code",
      "source": [
        "%cd /content/"
      ],
      "metadata": {
        "colab": {
          "base_uri": "https://localhost:8080/"
        },
        "id": "B7lSQTbpkhjt",
        "outputId": "e582b609-42ca-4767-b89c-a3a247621372"
      },
      "execution_count": 8,
      "outputs": [
        {
          "output_type": "stream",
          "name": "stdout",
          "text": [
            "/content\n"
          ]
        }
      ]
    },
    {
      "cell_type": "code",
      "source": [
        "# or load trained model for inference\n",
        "#Load phase three trained model (trained earlier)\n",
        "url='https://docs.google.com/uc?export=download&id=1--xn75VlBCaxx2rE4IIFiyHWRTGO2R5X&confirm=t'\n",
        "output='phase3_yolo5_trained.pt'\n",
        "gdown.download(url, output, quiet=False) #, use_cookies=True)\n"
      ],
      "metadata": {
        "colab": {
          "base_uri": "https://localhost:8080/",
          "height": 107
        },
        "id": "2lDtFsmId6Io",
        "outputId": "18ab0cd3-c167-41e0-9613-2c100334131d"
      },
      "execution_count": 9,
      "outputs": [
        {
          "output_type": "stream",
          "name": "stderr",
          "text": [
            "Downloading...\n",
            "From: https://docs.google.com/uc?export=download&id=1--xn75VlBCaxx2rE4IIFiyHWRTGO2R5X&confirm=t\n",
            "To: /content/phase3_yolo5_trained.pt\n",
            "100%|██████████| 173M/173M [00:00<00:00, 267MB/s]\n"
          ]
        },
        {
          "output_type": "execute_result",
          "data": {
            "text/plain": [
              "'phase3_yolo5_trained.pt'"
            ],
            "application/vnd.google.colaboratory.intrinsic+json": {
              "type": "string"
            }
          },
          "metadata": {},
          "execution_count": 9
        }
      ]
    },
    {
      "cell_type": "code",
      "source": [
        "import gdown\n",
        "\n",
        "url='https://docs.google.com/uc?export=download&id=1_lvjNOUjM_rQYHNpzcuO_QsbTqELWbMs&confirm=t'\n",
        "output='orgdataset.zip'\n",
        "gdown.download(url, output, quiet=False) #, use_cookies=True)\n"
      ],
      "metadata": {
        "colab": {
          "base_uri": "https://localhost:8080/",
          "height": 107
        },
        "id": "UGmYQovZgJh6",
        "outputId": "64c46f44-0615-4844-9837-b029a3b80682"
      },
      "execution_count": 10,
      "outputs": [
        {
          "output_type": "stream",
          "name": "stderr",
          "text": [
            "Downloading...\n",
            "From: https://docs.google.com/uc?export=download&id=1_lvjNOUjM_rQYHNpzcuO_QsbTqELWbMs&confirm=t\n",
            "To: /content/orgdataset.zip\n",
            "100%|██████████| 2.34G/2.34G [00:06<00:00, 336MB/s]\n"
          ]
        },
        {
          "output_type": "execute_result",
          "data": {
            "text/plain": [
              "'orgdataset.zip'"
            ],
            "application/vnd.google.colaboratory.intrinsic+json": {
              "type": "string"
            }
          },
          "metadata": {},
          "execution_count": 10
        }
      ]
    },
    {
      "cell_type": "code",
      "source": [
        "import os\n",
        "os.chdir('/content/')  #change dir\n",
        "!unzip -u orgdataset.zip -d dataset/"
      ],
      "metadata": {
        "id": "msVFKVGAqxvu",
        "colab": {
          "base_uri": "https://localhost:8080/"
        },
        "outputId": "34203159-f72b-4feb-d2df-1d822991cc14"
      },
      "execution_count": 11,
      "outputs": [
        {
          "output_type": "stream",
          "name": "stdout",
          "text": [
            "Archive:  orgdataset.zip\n"
          ]
        }
      ]
    },
    {
      "cell_type": "code",
      "source": [
        "import pandas as pd\n",
        "test_df = pd.read_csv(\"/content/dataset/dataset/test.csv\")\n",
        "test_df"
      ],
      "metadata": {
        "id": "_u0mDmqUrgCI",
        "colab": {
          "base_uri": "https://localhost:8080/",
          "height": 424
        },
        "outputId": "e0d33b51-7068-4d95-d070-a027fbb0c02a"
      },
      "execution_count": 12,
      "outputs": [
        {
          "output_type": "execute_result",
          "data": {
            "text/plain": [
              "                                image_path\n",
              "0     953ab1447c46ecfef67ab14629cd70c7.jpg\n",
              "1     e4ddbaa7970fca225a51288ce5f7d3f9.jpg\n",
              "2     5b8120d69607a077b7583334be3ba18b.jpg\n",
              "3     138b1dc82005b4c33e4886260649d313.jpg\n",
              "4     0f91ec1533b845b13089f8cf4e0a36f7.jpg\n",
              "...                                    ...\n",
              "2087  3e7dd159466f14474a0173e9b02f512a.jpg\n",
              "2088  a464d4600589ddf541bed59942c0228d.jpg\n",
              "2089  0a490958aac3c79bb815a0f1f6825284.jpg\n",
              "2090  15afe8bce6c71deed2d53f56b78b90a8.jpg\n",
              "2091  984841724143c66506986b3faa50e4b9.jpg\n",
              "\n",
              "[2092 rows x 1 columns]"
            ],
            "text/html": [
              "\n",
              "  <div id=\"df-97b13b78-8228-43a6-95ed-1780357ef38e\">\n",
              "    <div class=\"colab-df-container\">\n",
              "      <div>\n",
              "<style scoped>\n",
              "    .dataframe tbody tr th:only-of-type {\n",
              "        vertical-align: middle;\n",
              "    }\n",
              "\n",
              "    .dataframe tbody tr th {\n",
              "        vertical-align: top;\n",
              "    }\n",
              "\n",
              "    .dataframe thead th {\n",
              "        text-align: right;\n",
              "    }\n",
              "</style>\n",
              "<table border=\"1\" class=\"dataframe\">\n",
              "  <thead>\n",
              "    <tr style=\"text-align: right;\">\n",
              "      <th></th>\n",
              "      <th>image_path</th>\n",
              "    </tr>\n",
              "  </thead>\n",
              "  <tbody>\n",
              "    <tr>\n",
              "      <th>0</th>\n",
              "      <td>953ab1447c46ecfef67ab14629cd70c7.jpg</td>\n",
              "    </tr>\n",
              "    <tr>\n",
              "      <th>1</th>\n",
              "      <td>e4ddbaa7970fca225a51288ce5f7d3f9.jpg</td>\n",
              "    </tr>\n",
              "    <tr>\n",
              "      <th>2</th>\n",
              "      <td>5b8120d69607a077b7583334be3ba18b.jpg</td>\n",
              "    </tr>\n",
              "    <tr>\n",
              "      <th>3</th>\n",
              "      <td>138b1dc82005b4c33e4886260649d313.jpg</td>\n",
              "    </tr>\n",
              "    <tr>\n",
              "      <th>4</th>\n",
              "      <td>0f91ec1533b845b13089f8cf4e0a36f7.jpg</td>\n",
              "    </tr>\n",
              "    <tr>\n",
              "      <th>...</th>\n",
              "      <td>...</td>\n",
              "    </tr>\n",
              "    <tr>\n",
              "      <th>2087</th>\n",
              "      <td>3e7dd159466f14474a0173e9b02f512a.jpg</td>\n",
              "    </tr>\n",
              "    <tr>\n",
              "      <th>2088</th>\n",
              "      <td>a464d4600589ddf541bed59942c0228d.jpg</td>\n",
              "    </tr>\n",
              "    <tr>\n",
              "      <th>2089</th>\n",
              "      <td>0a490958aac3c79bb815a0f1f6825284.jpg</td>\n",
              "    </tr>\n",
              "    <tr>\n",
              "      <th>2090</th>\n",
              "      <td>15afe8bce6c71deed2d53f56b78b90a8.jpg</td>\n",
              "    </tr>\n",
              "    <tr>\n",
              "      <th>2091</th>\n",
              "      <td>984841724143c66506986b3faa50e4b9.jpg</td>\n",
              "    </tr>\n",
              "  </tbody>\n",
              "</table>\n",
              "<p>2092 rows × 1 columns</p>\n",
              "</div>\n",
              "      <button class=\"colab-df-convert\" onclick=\"convertToInteractive('df-97b13b78-8228-43a6-95ed-1780357ef38e')\"\n",
              "              title=\"Convert this dataframe to an interactive table.\"\n",
              "              style=\"display:none;\">\n",
              "        \n",
              "  <svg xmlns=\"http://www.w3.org/2000/svg\" height=\"24px\"viewBox=\"0 0 24 24\"\n",
              "       width=\"24px\">\n",
              "    <path d=\"M0 0h24v24H0V0z\" fill=\"none\"/>\n",
              "    <path d=\"M18.56 5.44l.94 2.06.94-2.06 2.06-.94-2.06-.94-.94-2.06-.94 2.06-2.06.94zm-11 1L8.5 8.5l.94-2.06 2.06-.94-2.06-.94L8.5 2.5l-.94 2.06-2.06.94zm10 10l.94 2.06.94-2.06 2.06-.94-2.06-.94-.94-2.06-.94 2.06-2.06.94z\"/><path d=\"M17.41 7.96l-1.37-1.37c-.4-.4-.92-.59-1.43-.59-.52 0-1.04.2-1.43.59L10.3 9.45l-7.72 7.72c-.78.78-.78 2.05 0 2.83L4 21.41c.39.39.9.59 1.41.59.51 0 1.02-.2 1.41-.59l7.78-7.78 2.81-2.81c.8-.78.8-2.07 0-2.86zM5.41 20L4 18.59l7.72-7.72 1.47 1.35L5.41 20z\"/>\n",
              "  </svg>\n",
              "      </button>\n",
              "      \n",
              "  <style>\n",
              "    .colab-df-container {\n",
              "      display:flex;\n",
              "      flex-wrap:wrap;\n",
              "      gap: 12px;\n",
              "    }\n",
              "\n",
              "    .colab-df-convert {\n",
              "      background-color: #E8F0FE;\n",
              "      border: none;\n",
              "      border-radius: 50%;\n",
              "      cursor: pointer;\n",
              "      display: none;\n",
              "      fill: #1967D2;\n",
              "      height: 32px;\n",
              "      padding: 0 0 0 0;\n",
              "      width: 32px;\n",
              "    }\n",
              "\n",
              "    .colab-df-convert:hover {\n",
              "      background-color: #E2EBFA;\n",
              "      box-shadow: 0px 1px 2px rgba(60, 64, 67, 0.3), 0px 1px 3px 1px rgba(60, 64, 67, 0.15);\n",
              "      fill: #174EA6;\n",
              "    }\n",
              "\n",
              "    [theme=dark] .colab-df-convert {\n",
              "      background-color: #3B4455;\n",
              "      fill: #D2E3FC;\n",
              "    }\n",
              "\n",
              "    [theme=dark] .colab-df-convert:hover {\n",
              "      background-color: #434B5C;\n",
              "      box-shadow: 0px 1px 3px 1px rgba(0, 0, 0, 0.15);\n",
              "      filter: drop-shadow(0px 1px 2px rgba(0, 0, 0, 0.3));\n",
              "      fill: #FFFFFF;\n",
              "    }\n",
              "  </style>\n",
              "\n",
              "      <script>\n",
              "        const buttonEl =\n",
              "          document.querySelector('#df-97b13b78-8228-43a6-95ed-1780357ef38e button.colab-df-convert');\n",
              "        buttonEl.style.display =\n",
              "          google.colab.kernel.accessAllowed ? 'block' : 'none';\n",
              "\n",
              "        async function convertToInteractive(key) {\n",
              "          const element = document.querySelector('#df-97b13b78-8228-43a6-95ed-1780357ef38e');\n",
              "          const dataTable =\n",
              "            await google.colab.kernel.invokeFunction('convertToInteractive',\n",
              "                                                     [key], {});\n",
              "          if (!dataTable) return;\n",
              "\n",
              "          const docLinkHtml = 'Like what you see? Visit the ' +\n",
              "            '<a target=\"_blank\" href=https://colab.research.google.com/notebooks/data_table.ipynb>data table notebook</a>'\n",
              "            + ' to learn more about interactive tables.';\n",
              "          element.innerHTML = '';\n",
              "          dataTable['output_type'] = 'display_data';\n",
              "          await google.colab.output.renderOutput(dataTable, element);\n",
              "          const docLink = document.createElement('div');\n",
              "          docLink.innerHTML = docLinkHtml;\n",
              "          element.appendChild(docLink);\n",
              "        }\n",
              "      </script>\n",
              "    </div>\n",
              "  </div>\n",
              "  "
            ]
          },
          "metadata": {},
          "execution_count": 12
        }
      ]
    },
    {
      "cell_type": "code",
      "source": [
        "model = torch.hub.load('/content/yolov5', 'custom', path='/content/phase3_yolo5_trained.pt', source='local') \n"
      ],
      "metadata": {
        "colab": {
          "base_uri": "https://localhost:8080/"
        },
        "id": "jfodrLD2sqg0",
        "outputId": "91aef6ed-444f-4664-e709-f2b2f688d63f"
      },
      "execution_count": 13,
      "outputs": [
        {
          "output_type": "stream",
          "name": "stderr",
          "text": [
            "YOLOv5 🚀 v7.0-72-g064365d Python-3.8.10 torch-1.13.1+cu116 CUDA:0 (Tesla T4, 15110MiB)\n",
            "\n",
            "Fusing layers... \n",
            "Model summary: 322 layers, 86233975 parameters, 0 gradients, 203.9 GFLOPs\n",
            "Adding AutoShape... \n"
          ]
        }
      ]
    },
    {
      "cell_type": "code",
      "source": [
        "%cd yolov5\n"
      ],
      "metadata": {
        "colab": {
          "base_uri": "https://localhost:8080/"
        },
        "id": "iWpNTHUblSpQ",
        "outputId": "48c1b1da-f195-47a9-892d-559d56decfcd"
      },
      "execution_count": 14,
      "outputs": [
        {
          "output_type": "stream",
          "name": "stdout",
          "text": [
            "/content/yolov5\n"
          ]
        }
      ]
    },
    {
      "cell_type": "code",
      "source": [
        "from tqdm import tqdm\n",
        "\n",
        "count_test = 0 \n",
        "\n",
        "smart_dict={'GRAFFITI' : 0.0 , 'FADED_SIGNAGE': 1.0 , 'POTHOLES': 2.0,\n",
        "            'GARBAGE' : 3.0 , 'CONSTRUCTION_ROAD': 4.0 , 'BROKEN_SIGNAGE': 5.0,\n",
        "            'BAD_STREETLIGHT' : 6.0 , 'BAD_BILLBOARD': 7.0 , 'SAND_ON_ROAD':8.0,\n",
        "            'CLUTTER_SIDEWALK' : 9.0 , 'UNKEPT_FACADE': 10.0}\n",
        "\n",
        "\n",
        "\n",
        "sub_df = pd.DataFrame(columns=['class','image_path','name','xmax','xmin','ymax','ymin'])\n",
        "for index, row in tqdm(test_df.iterrows()):  \n",
        "  t_path = '/content/dataset/dataset/images/'+row[\"image_path\"]\n",
        "  outputs = model(t_path , size=(960,540)) #, augment=True) \n",
        "  pred_boxes = outputs.pandas().xyxy[0]\n",
        "  \n",
        "  \n",
        "  if len(pred_boxes)>0:\n",
        "    one_pass = False\n",
        "\n",
        "    for idx in range(len(pred_boxes)):\n",
        "      xmin, ymin, xmax, ymax,score,cls,name = pred_boxes.iloc[idx]\n",
        "\n",
        "     \n",
        "      if name == \"None\":\n",
        "         continue\n",
        "      pclass = smart_dict[name]\n",
        "      image_path = row[\"image_path\"]\n",
        "      \n",
        "      if score >= 0.3:\n",
        "  \n",
        "        xmin = xmin/2.0\n",
        "        ymin = ymin/2.0\n",
        "        xmax = xmax/2.0\n",
        "        ymax = ymax/2.0\n",
        "   \n",
        "\n",
        "\n",
        "        sub_df = sub_df.append({'class':pclass, 'image_path':image_path, 'name':name, 'xmax':xmax, 'xmin':xmin, 'ymax':ymax, 'ymin':ymin}, ignore_index=True)\n",
        "        one_pass = True\n",
        "\n",
        "    if one_pass == False:\n",
        "      sub_df = sub_df.append({'class':3.0, 'image_path':row[\"image_path\"], 'name':\"GARBAGE\", 'xmax':1260, 'xmin':660, 'ymax':660, 'ymin':420}, ignore_index=True)\n",
        "      count_test +=1\n",
        "  else:\n",
        "    sub_df = sub_df.append({'class':3.0, 'image_path':row[\"image_path\"], 'name':\"GARBAGE\", 'xmax':1260, 'xmin':660, 'ymax':660, 'ymin':420}, ignore_index=True)\n",
        "    count_test +=1"
      ],
      "metadata": {
        "colab": {
          "base_uri": "https://localhost:8080/"
        },
        "id": "XWvuGpShrnAY",
        "outputId": "83e34eb2-7c89-4155-c3e1-32e3413dcc44"
      },
      "execution_count": null,
      "outputs": [
        {
          "output_type": "stream",
          "name": "stderr",
          "text": [
            "123it [00:25,  4.69it/s]"
          ]
        }
      ]
    },
    {
      "cell_type": "code",
      "source": [
        "sub_df"
      ],
      "metadata": {
        "id": "laktf3yzy0kW"
      },
      "execution_count": null,
      "outputs": []
    },
    {
      "cell_type": "code",
      "source": [
        "sub_df.to_csv(\"/content/phase3_yolo_results.csv\",index=False)"
      ],
      "metadata": {
        "id": "ozDVzWwSy3f-"
      },
      "execution_count": null,
      "outputs": []
    }
  ]
}